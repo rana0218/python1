{
  "nbformat": 4,
  "nbformat_minor": 0,
  "metadata": {
    "colab": {
      "provenance": []
    },
    "kernelspec": {
      "name": "python3",
      "display_name": "Python 3"
    },
    "language_info": {
      "name": "python"
    }
  },
  "cells": [
    {
      "cell_type": "code",
      "source": [
        "# creating a list\n",
        "list = []\n",
        "\n",
        "#input\n",
        "n = int(input(\"Enter number of elements : \"))\n",
        "\n",
        "# iterating till the range\n",
        "for i in range(0, n):\n",
        "\tele = int(input())\n",
        "\t# adding the element\n",
        "\tlist.append(ele)\n",
        "\n",
        "print(list)"
      ],
      "metadata": {
        "colab": {
          "base_uri": "https://localhost:8080/"
        },
        "id": "wgN1hgQhqq6v",
        "outputId": "399e4d2d-2537-49f6-cce9-b902c72e9c76"
      },
      "execution_count": null,
      "outputs": [
        {
          "output_type": "stream",
          "name": "stdout",
          "text": [
            "Enter number of elements : 3\n",
            "1\n",
            "2\n",
            "3\n",
            "[1, 2, 3]\n"
          ]
        }
      ]
    },
    {
      "cell_type": "code",
      "execution_count": null,
      "metadata": {
        "colab": {
          "base_uri": "https://localhost:8080/"
        },
        "id": "0GmTNk3To85V",
        "outputId": "49de5ba7-2ade-4ad2-e283-2164378440cd"
      },
      "outputs": [
        {
          "output_type": "stream",
          "name": "stdout",
          "text": [
            "Enter a list of numbers (comma-separated): 1,2,3,4\n",
            "Sum: 10.0\n",
            "Average: 2.50\n",
            "Minimum: 1.0\n",
            "Maximum: 4.0\n",
            "Cumulative Sum: [1.0, 3.0, 6.0, 10.0]\n"
          ]
        }
      ],
      "source": [
        "def compute_stats(input_list):\n",
        "    \"\"\"\n",
        "    Computes sum, average, minimum, maximum, and cumulative sum of a given list.\n",
        "\n",
        "    Args:\n",
        "        input_list (list): List of numeric values.\n",
        "\n",
        "    Returns:\n",
        "        tuple: (sum, average, min, max, cumulative_sum)\n",
        "    \"\"\"\n",
        "    if not input_list:\n",
        "        return 0, 0, None, None, []\n",
        "\n",
        "    total_sum = sum(input_list)\n",
        "    avg = total_sum / len(input_list)\n",
        "    min_val = min(input_list)\n",
        "    max_val = max(input_list)\n",
        "\n",
        "    cumulative_sum = [sum(input_list[:i + 1]) for i in range(len(input_list))]\n",
        "\n",
        "    return total_sum, avg, min_val, max_val, cumulative_sum\n",
        "\n",
        "def user_input():\n",
        "    \"\"\"\n",
        "    Takes input from the user and computes statistics using the compute_stats function.\n",
        "    \"\"\"\n",
        "    try:\n",
        "        input_str = input(\"Enter a list of numbers (comma-separated): \")\n",
        "        input_list = [float(num) for num in input_str.split(\",\")]\n",
        "        total_sum, avg, min_val, max_val, cumulative_sum = compute_stats(input_list)\n",
        "\n",
        "        print(f\"Sum: {total_sum}\")\n",
        "        print(f\"Average: {avg:.2f}\")\n",
        "        print(f\"Minimum: {min_val}\")\n",
        "        print(f\"Maximum: {max_val}\")\n",
        "        print(f\"Cumulative Sum: {cumulative_sum}\")\n",
        "\n",
        "    except ValueError:\n",
        "        print(\"Invalid input. Please enter a valid list of numbers.\")\n",
        "\n",
        "# Call the user_input function to start the process\n",
        "user_input()\n"
      ]
    },
    {
      "cell_type": "code",
      "source": [],
      "metadata": {
        "id": "CrvOj3LgsxOA"
      },
      "execution_count": null,
      "outputs": []
    }
  ]
}